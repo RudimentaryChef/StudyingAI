{
 "cells": [
  {
   "cell_type": "code",
   "execution_count": 32,
   "id": "43e06c17",
   "metadata": {},
   "outputs": [],
   "source": [
    "import numpy as np\n",
    "y = np.random.random([2,2])\n",
    "x = np.random.random([2,2])\n",
    "y = y * 10\n",
    "x = x * 10"
   ]
  },
  {
   "cell_type": "code",
   "execution_count": 33,
   "id": "e9fdd6ce",
   "metadata": {},
   "outputs": [
    {
     "data": {
      "text/plain": [
       "(2, 2)"
      ]
     },
     "execution_count": 33,
     "metadata": {},
     "output_type": "execute_result"
    }
   ],
   "source": [
    "y.shape"
   ]
  },
  {
   "cell_type": "code",
   "execution_count": 34,
   "id": "3b6eb409",
   "metadata": {},
   "outputs": [],
   "source": [
    "#y.transpose()"
   ]
  },
  {
   "cell_type": "code",
   "execution_count": 38,
   "id": "aee90388",
   "metadata": {},
   "outputs": [
    {
     "data": {
      "text/plain": [
       "array([[8.75800934, 8.94525353],\n",
       "       [3.0039501 , 4.26361433]])"
      ]
     },
     "execution_count": 38,
     "metadata": {},
     "output_type": "execute_result"
    }
   ],
   "source": [
    "x"
   ]
  },
  {
   "cell_type": "code",
   "execution_count": 39,
   "id": "689b199a",
   "metadata": {},
   "outputs": [
    {
     "data": {
      "text/plain": [
       "array([[8.84556627, 5.26482373],\n",
       "       [3.00546307, 0.07495926]])"
      ]
     },
     "execution_count": 39,
     "metadata": {},
     "output_type": "execute_result"
    }
   ],
   "source": [
    "y"
   ]
  },
  {
   "cell_type": "code",
   "execution_count": 35,
   "id": "645eedae",
   "metadata": {},
   "outputs": [
    {
     "data": {
      "text/plain": [
       "array([[77.46955201, 47.09518303],\n",
       "       [ 9.02826112,  0.31959739]])"
      ]
     },
     "execution_count": 35,
     "metadata": {},
     "output_type": "execute_result"
    }
   ],
   "source": [
    "x * y"
   ]
  },
  {
   "cell_type": "code",
   "execution_count": 36,
   "id": "c6992013",
   "metadata": {},
   "outputs": [
    {
     "data": {
      "text/plain": [
       "array([[104.35418119,  46.77990498],\n",
       "       [ 39.38577515,  16.13486517]])"
      ]
     },
     "execution_count": 36,
     "metadata": {},
     "output_type": "execute_result"
    }
   ],
   "source": [
    "np.matmul(x,y)"
   ]
  },
  {
   "cell_type": "code",
   "execution_count": 37,
   "id": "37d6cfd7",
   "metadata": {},
   "outputs": [
    {
     "data": {
      "text/plain": [
       "array([[6361.43551739, 7671.39328488],\n",
       "       [  20.1650338 ,   71.06637722]])"
      ]
     },
     "execution_count": 37,
     "metadata": {},
     "output_type": "execute_result"
    }
   ],
   "source": [
    "np.exp(x) #raises e to x"
   ]
  },
  {
   "cell_type": "code",
   "execution_count": 40,
   "id": "33eb5efb",
   "metadata": {},
   "outputs": [
    {
     "data": {
      "text/plain": [
       "array([[ 0.61844992,  0.46135729],\n",
       "       [ 0.13720834, -0.90097941]])"
      ]
     },
     "execution_count": 40,
     "metadata": {},
     "output_type": "execute_result"
    }
   ],
   "source": [
    "np.sin(x)"
   ]
  },
  {
   "cell_type": "code",
   "execution_count": 43,
   "id": "9312af2a",
   "metadata": {},
   "outputs": [
    {
     "data": {
      "text/plain": [
       "11"
      ]
     },
     "execution_count": 43,
     "metadata": {},
     "output_type": "execute_result"
    }
   ],
   "source": [
    "hmm = np.array([4,2,9,-6,5,11,3])\n",
    "np.max(hmm)"
   ]
  },
  {
   "cell_type": "code",
   "execution_count": 44,
   "id": "801bcee1",
   "metadata": {},
   "outputs": [
    {
     "data": {
      "text/plain": [
       "-6"
      ]
     },
     "execution_count": 44,
     "metadata": {},
     "output_type": "execute_result"
    }
   ],
   "source": [
    "np.min(hmm)"
   ]
  },
  {
   "cell_type": "code",
   "execution_count": 45,
   "id": "2646dae9",
   "metadata": {},
   "outputs": [
    {
     "data": {
      "text/plain": [
       "11"
      ]
     },
     "execution_count": 45,
     "metadata": {},
     "output_type": "execute_result"
    }
   ],
   "source": [
    "hmm.max()"
   ]
  },
  {
   "cell_type": "code",
   "execution_count": 47,
   "id": "2056d051",
   "metadata": {},
   "outputs": [
    {
     "data": {
      "text/plain": [
       "array([[0.20955872],\n",
       "       [0.43804623]])"
      ]
     },
     "execution_count": 47,
     "metadata": {},
     "output_type": "execute_result"
    }
   ],
   "source": [
    "np.random.random([2,1])"
   ]
  },
  {
   "cell_type": "code",
   "execution_count": 48,
   "id": "221104ad",
   "metadata": {},
   "outputs": [
    {
     "data": {
      "text/plain": [
       "0.5670410983646885"
      ]
     },
     "execution_count": 48,
     "metadata": {},
     "output_type": "execute_result"
    }
   ],
   "source": [
    "np.random.random()"
   ]
  },
  {
   "cell_type": "code",
   "execution_count": 49,
   "id": "960d3dcc",
   "metadata": {},
   "outputs": [
    {
     "data": {
      "text/plain": [
       "17.08800749063506"
      ]
     },
     "execution_count": 49,
     "metadata": {},
     "output_type": "execute_result"
    }
   ],
   "source": [
    "np.linalg.norm(hmm) #finds the norm"
   ]
  },
  {
   "cell_type": "code",
   "execution_count": null,
   "id": "acdbe89a",
   "metadata": {},
   "outputs": [],
   "source": []
  }
 ],
 "metadata": {
  "kernelspec": {
   "display_name": "Python 3 (ipykernel)",
   "language": "python",
   "name": "python3"
  },
  "language_info": {
   "codemirror_mode": {
    "name": "ipython",
    "version": 3
   },
   "file_extension": ".py",
   "mimetype": "text/x-python",
   "name": "python",
   "nbconvert_exporter": "python",
   "pygments_lexer": "ipython3",
   "version": "3.11.5"
  }
 },
 "nbformat": 4,
 "nbformat_minor": 5
}
