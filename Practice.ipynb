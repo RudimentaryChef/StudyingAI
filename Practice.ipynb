{
 "cells": [
  {
   "cell_type": "code",
   "execution_count": 1,
   "id": "43e06c17",
   "metadata": {},
   "outputs": [],
   "source": [
    "import numpy as np\n",
    "y = np.random.random([2,2])\n",
    "x = np.random.random([2,2])\n",
    "y = y * 10\n",
    "x = x * 10"
   ]
  },
  {
   "cell_type": "code",
   "execution_count": 2,
   "id": "e9fdd6ce",
   "metadata": {},
   "outputs": [
    {
     "data": {
      "text/plain": [
       "(2, 2)"
      ]
     },
     "execution_count": 2,
     "metadata": {},
     "output_type": "execute_result"
    }
   ],
   "source": [
    "y.shape"
   ]
  },
  {
   "cell_type": "code",
   "execution_count": 3,
   "id": "3b6eb409",
   "metadata": {},
   "outputs": [],
   "source": [
    "#y.transpose()"
   ]
  },
  {
   "cell_type": "code",
   "execution_count": 4,
   "id": "aee90388",
   "metadata": {},
   "outputs": [
    {
     "data": {
      "text/plain": [
       "array([[7.89660638, 8.35327693],\n",
       "       [5.16670376, 8.58482779]])"
      ]
     },
     "execution_count": 4,
     "metadata": {},
     "output_type": "execute_result"
    }
   ],
   "source": [
    "x"
   ]
  },
  {
   "cell_type": "code",
   "execution_count": 5,
   "id": "689b199a",
   "metadata": {},
   "outputs": [
    {
     "data": {
      "text/plain": [
       "array([[6.42639832, 1.44637749],\n",
       "       [4.11476677, 0.0472408 ]])"
      ]
     },
     "execution_count": 5,
     "metadata": {},
     "output_type": "execute_result"
    }
   ],
   "source": [
    "y"
   ]
  },
  {
   "cell_type": "code",
   "execution_count": 6,
   "id": "645eedae",
   "metadata": {},
   "outputs": [
    {
     "data": {
      "text/plain": [
       "array([[50.74673803, 12.08199174],\n",
       "       [21.25978094,  0.40555414]])"
      ]
     },
     "execution_count": 6,
     "metadata": {},
     "output_type": "execute_result"
    }
   ],
   "source": [
    "x * y"
   ]
  },
  {
   "cell_type": "code",
   "execution_count": 7,
   "id": "c6992013",
   "metadata": {},
   "outputs": [
    {
     "data": {
      "text/plain": [
       "array([[85.11852436, 11.81608923],\n",
       "       [68.52786053,  7.87855817]])"
      ]
     },
     "execution_count": 7,
     "metadata": {},
     "output_type": "execute_result"
    }
   ],
   "source": [
    "np.matmul(x,y)"
   ]
  },
  {
   "cell_type": "code",
   "execution_count": 8,
   "id": "37d6cfd7",
   "metadata": {},
   "outputs": [
    {
     "data": {
      "text/plain": [
       "array([[2688.14430046, 4244.06548613],\n",
       "       [ 175.3359347 , 5349.87135774]])"
      ]
     },
     "execution_count": 8,
     "metadata": {},
     "output_type": "execute_result"
    }
   ],
   "source": [
    "np.exp(x) #raises e to x"
   ]
  },
  {
   "cell_type": "code",
   "execution_count": 9,
   "id": "33eb5efb",
   "metadata": {},
   "outputs": [
    {
     "data": {
      "text/plain": [
       "array([[ 0.9990917 ,  0.8779202 ],\n",
       "       [-0.89856195,  0.74460986]])"
      ]
     },
     "execution_count": 9,
     "metadata": {},
     "output_type": "execute_result"
    }
   ],
   "source": [
    "np.sin(x)"
   ]
  },
  {
   "cell_type": "code",
   "execution_count": 10,
   "id": "9312af2a",
   "metadata": {},
   "outputs": [
    {
     "data": {
      "text/plain": [
       "11"
      ]
     },
     "execution_count": 10,
     "metadata": {},
     "output_type": "execute_result"
    }
   ],
   "source": [
    "hmm = np.array([4,2,9,-6,5,11,3])\n",
    "np.max(hmm)"
   ]
  },
  {
   "cell_type": "code",
   "execution_count": 11,
   "id": "801bcee1",
   "metadata": {},
   "outputs": [
    {
     "data": {
      "text/plain": [
       "-6"
      ]
     },
     "execution_count": 11,
     "metadata": {},
     "output_type": "execute_result"
    }
   ],
   "source": [
    "np.min(hmm)"
   ]
  },
  {
   "cell_type": "code",
   "execution_count": 12,
   "id": "2646dae9",
   "metadata": {},
   "outputs": [
    {
     "data": {
      "text/plain": [
       "11"
      ]
     },
     "execution_count": 12,
     "metadata": {},
     "output_type": "execute_result"
    }
   ],
   "source": [
    "hmm.max()"
   ]
  },
  {
   "cell_type": "code",
   "execution_count": 13,
   "id": "2056d051",
   "metadata": {},
   "outputs": [
    {
     "data": {
      "text/plain": [
       "array([[0.96062832],\n",
       "       [0.59256695]])"
      ]
     },
     "execution_count": 13,
     "metadata": {},
     "output_type": "execute_result"
    }
   ],
   "source": [
    "np.random.random([2,1])"
   ]
  },
  {
   "cell_type": "code",
   "execution_count": 14,
   "id": "221104ad",
   "metadata": {},
   "outputs": [
    {
     "data": {
      "text/plain": [
       "0.43534823453624627"
      ]
     },
     "execution_count": 14,
     "metadata": {},
     "output_type": "execute_result"
    }
   ],
   "source": [
    "np.random.random()"
   ]
  },
  {
   "cell_type": "code",
   "execution_count": 15,
   "id": "960d3dcc",
   "metadata": {},
   "outputs": [
    {
     "data": {
      "text/plain": [
       "17.08800749063506"
      ]
     },
     "execution_count": 15,
     "metadata": {},
     "output_type": "execute_result"
    }
   ],
   "source": [
    "np.linalg.norm(hmm) #finds the norm"
   ]
  },
  {
   "cell_type": "code",
   "execution_count": 16,
   "id": "ecc8bcee",
   "metadata": {},
   "outputs": [],
   "source": [
    "def scalar(x,y):\n",
    "    return x + y"
   ]
  },
  {
   "cell_type": "code",
   "execution_count": 18,
   "id": "c30a6389",
   "metadata": {},
   "outputs": [
    {
     "data": {
      "text/plain": [
       "array([[14.32300471,  9.79965442],\n",
       "       [ 9.28147053,  8.6320686 ]])"
      ]
     },
     "execution_count": 18,
     "metadata": {},
     "output_type": "execute_result"
    }
   ],
   "source": [
    "#Converts this to a vecotr function\n",
    "def vector(x,y):\n",
    "    return np.vectorize(scalar)(x,y)\n",
    "vector(x,y)"
   ]
  },
  {
   "cell_type": "code",
   "execution_count": 19,
   "id": "a45d8e1c",
   "metadata": {},
   "outputs": [
    {
     "data": {
      "text/plain": [
       "array([0, 1, 2, 3, 4, 5, 6, 7, 8, 9])"
      ]
     },
     "execution_count": 19,
     "metadata": {},
     "output_type": "execute_result"
    }
   ],
   "source": [
    "np.arange(10)"
   ]
  },
  {
   "cell_type": "code",
   "execution_count": 20,
   "id": "4bdc168e",
   "metadata": {},
   "outputs": [
    {
     "data": {
      "text/plain": [
       "array([[0, 1, 2, 3, 4],\n",
       "       [5, 6, 7, 8, 9]])"
      ]
     },
     "execution_count": 20,
     "metadata": {},
     "output_type": "execute_result"
    }
   ],
   "source": [
    "np.arange(10).reshape(2,5)"
   ]
  }
 ],
 "metadata": {
  "kernelspec": {
   "display_name": "Python 3 (ipykernel)",
   "language": "python",
   "name": "python3"
  },
  "language_info": {
   "codemirror_mode": {
    "name": "ipython",
    "version": 3
   },
   "file_extension": ".py",
   "mimetype": "text/x-python",
   "name": "python",
   "nbconvert_exporter": "python",
   "pygments_lexer": "ipython3",
   "version": "3.11.5"
  }
 },
 "nbformat": 4,
 "nbformat_minor": 5
}
